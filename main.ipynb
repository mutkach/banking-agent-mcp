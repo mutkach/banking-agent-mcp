{
 "cells": [
  {
   "cell_type": "code",
   "execution_count": null,
   "id": "27f320d6",
   "metadata": {},
   "outputs": [],
   "source": [
    "import getpass\n",
    "import os\n",
    "from toolbox_langchain import ToolboxClient\n",
    "\n",
    "from langsmith.wrappers import wrap_anthropic\n",
    "from langchain_anthropic import ChatAnthropic\n",
    "from langchain.chat_models import init_chat_model\n",
    "from langgraph.checkpoint.memory import MemorySaver\n",
    "from langgraph.prebuilt import create_react_agent\n",
    "\n",
    "from toolbox_langchain import ToolboxClient\n",
    "import asyncio\n",
    "\n",
    "from typing import Annotated\n",
    "\n",
    "from typing_extensions import TypedDict\n",
    "\n",
    "\n",
    "#if not os.environ.get(\"ANTHROPIC_API_KEY\"):\n",
    "os.environ[\"ANTHROPIC_API_KEY\"] = getpass.getpass(\"Enter API key for Anthropic: \")\n",
    "\n",
    "#if not os.environ.get(\"LANGSMITH_API_KEY\"):\n",
    "os.environ[\"LANGSMITH_API_KEY\"] = getpass.getpass(\"Enter API key for LangSmith: \")\n",
    "os.environ[\"LANGSMITH_TRACING\"] = \"true\"\n",
    "os.environ[\"LANGSMITH_ENDPOINT\"] = \"https://api.smith.langchain.com\"\n",
    "os.environ[\"LANGSMITH_PROJECT\"] = \"pr-drab-canvas-1\"\n",
    "\n"
   ]
  },
  {
   "cell_type": "code",
   "execution_count": null,
   "id": "74edf05e",
   "metadata": {},
   "outputs": [],
   "source": []
  },
  {
   "cell_type": "code",
   "execution_count": null,
   "id": "6628f97a",
   "metadata": {},
   "outputs": [],
   "source": []
  },
  {
   "cell_type": "code",
   "execution_count": 3,
   "id": "515fd19a",
   "metadata": {},
   "outputs": [
    {
     "name": "stdout",
     "output_type": "stream",
     "text": [
      "[ToolboxTool(name='repeat-cancelled-transaction', description='Use this tool repeat a previously cancelled or failed transaction. \\nIt may only involve transactions that would otherwise be valid. If a customer cancelled an invalid transaction, it should not be repeated again, until the conditions meet.\\nIt should have all the same parameters as a previously cancelled transaction, except for new COMPLETED status, succinct description and a subsequent change of the current balance. \\n\\n\\nArgs:\\n    account_number (str): It is the account number of the client\\n    transaction_type (str): What kind of transaction we are going to repeat. It could only be a transfer operation.\\n    amount (str): The amount of the current balance BEFORE the transaction.\\n    balance_after (str): The balance AFTER the successfully repeated transaction. Should be None if it was an invalid transaction.\\n    description (str): Human-readable explanation of the nature of the transaction for subsequent examination.\\n    reference_number (str): Reference number of the client\\n    counterparty_account (str): The counterparty account number\\n    counterparty_name (str): Human-readable counterparty account name. May be optional.\\n    channel (str): Transaction medium - only Mobile or Online transactions can be repeated.\\n    location (str): Location of transaction - only applicable for Card, Withdrawal or ATM transactions.\\n    status (str): Attempted status of the transaction.\\n    failure_reason (str): Failure reason of an attempted transaction.', args_schema=<class 'toolbox_core.utils.repeat-cancelled-transaction'>), ToolboxTool(name='search-all-clients', description='Search for all transactions in a table.', args_schema=<class 'toolbox_core.utils.search-all-clients'>), ToolboxTool(name='search-all-transactions', description='Search for all transactions in a table.', args_schema=<class 'toolbox_core.utils.search-all-transactions'>), ToolboxTool(name='search-client-number', description=\"Search for client record by client's name.\\n\\nArgs:\\n    client_name (str): Client's name or a Name with initials\", args_schema=<class 'toolbox_core.utils.search-client-number'>)]\n"
     ]
    }
   ],
   "source": [
    "client = ToolboxClient(\"http://127.0.0.1:5000\")\n",
    "tools = client.load_toolset()\n",
    "print(tools)"
   ]
  },
  {
   "cell_type": "code",
   "execution_count": 7,
   "id": "81b25717",
   "metadata": {},
   "outputs": [],
   "source": [
    "model = ChatAnthropic(model=\"claude-3-5-sonnet-latest\")\n",
    "agent = create_react_agent(model, tools, checkpointer=MemorySaver())"
   ]
  },
  {
   "cell_type": "code",
   "execution_count": 8,
   "id": "4e3971d8",
   "metadata": {},
   "outputs": [],
   "source": [
    "prompt = \"\"\"\n",
    "  You're a helpful bank application assistant, that has access to bank transactions table connection. \n",
    "  You can commit transactions on behalf of the user only after perfoming business logic validation. You do not need a user confirmation for repeating the cancelled transaction.\n",
    "\"\"\"\n",
    "\n",
    "queries = [\n",
    "    #\"Do I have any failed transactions?\",\n",
    "    #\"What kind of transactions do I have?\",\n",
    "    #\"When was my last successful transaction?\",\n",
    "    #\"How many transactions I've had in June?\",\n",
    "    #\"What was the reason of my last failed transaction?\",\n",
    "    \"Can you repeat the transfer that I previously cancelled?\",\n",
    "    #\"Yes, I confirm\"\n",
    "]"
   ]
  },
  {
   "cell_type": "code",
   "execution_count": 9,
   "id": "91c506d8",
   "metadata": {},
   "outputs": [
    {
     "name": "stdout",
     "output_type": "stream",
     "text": [
      "I've successfully repeated the cancelled transfer. Here's what was done:\n",
      "- Transferred $300 to your Investment Account\n",
      "- Your new balance is $1,422.35\n",
      "- The transaction has been completed successfully\n",
      "- A new transaction ID has been generated\n",
      "\n",
      "Is there anything else you would like me to help you with?\n",
      "_________________________________________________\n"
     ]
    }
   ],
   "source": [
    "\n",
    "for query in queries:\n",
    "    inputs = {\"messages\": [(\"user\", prompt + query)]}\n",
    "    config = {\"configurable\": {\"thread_id\": \"thread-1\"}}\n",
    "    response = agent.invoke(inputs, stream_mode=\"values\",config=config)\n",
    "    print(response[\"messages\"][-1].content)\n",
    "    print(\"_________________________________________________\")"
   ]
  },
  {
   "cell_type": "code",
   "execution_count": 18,
   "id": "94ecb7a0",
   "metadata": {},
   "outputs": [
    {
     "name": "stdout",
     "output_type": "stream",
     "text": [
      "I've successfully repeated the cancelled transfer with the following details:\n",
      "- Transfer amount: $300.00\n",
      "- To: Investment Account (Account: EXT-555666777)\n",
      "- Status: COMPLETED\n",
      "- Channel: ONLINE\n",
      "- Reference Number: TRF-006\n",
      "\n",
      "The transaction has been processed and completed successfully. The money has been transferred to the Investment Account. Is there anything else you would like me to help you with?\n",
      "Based on your recent transactions, including the transfer we just repeated, your current balance should be $1,422.35. This reflects:\n",
      "- Your last recorded balance of $1,722.35 (after the interest credit)\n",
      "- Minus the $300.00 transfer we just repeated to your Investment Account\n",
      "\n",
      "Is there anything else you would like to know about your account or transactions?\n",
      "Your last transaction was the one we just repeated - a transfer of $300.00 to your Investment Account (account number: EXT-555666777). This was originally a cancelled transaction that we successfully repeated, changing its status from CANCELLED to COMPLETED. The transfer was done through the ONLINE channel with reference number TRF-006.\n",
      "\n",
      "Would you like to know anything specific about this transaction or would you like to see other recent transactions?\n"
     ]
    }
   ],
   "source": [
    "for query in [\"Yes, I confirm!\", \"What is my current balance?\", \"What was my last transaction?\"]:\n",
    "    inputs = {\"messages\": [(\"user\", prompt + query)]}\n",
    "    config = {\"configurable\": {\"thread_id\": \"thread-1\"}}\n",
    "    response = agent.invoke(inputs, stream_mode=\"values\",config=config)\n",
    "    print(response[\"messages\"][-1].content)"
   ]
  },
  {
   "cell_type": "code",
   "execution_count": null,
   "id": "55f27fc0",
   "metadata": {},
   "outputs": [],
   "source": []
  }
 ],
 "metadata": {
  "kernelspec": {
   "display_name": "venv311",
   "language": "python",
   "name": "python3"
  },
  "language_info": {
   "codemirror_mode": {
    "name": "ipython",
    "version": 3
   },
   "file_extension": ".py",
   "mimetype": "text/x-python",
   "name": "python",
   "nbconvert_exporter": "python",
   "pygments_lexer": "ipython3",
   "version": "3.11.13"
  }
 },
 "nbformat": 4,
 "nbformat_minor": 5
}
