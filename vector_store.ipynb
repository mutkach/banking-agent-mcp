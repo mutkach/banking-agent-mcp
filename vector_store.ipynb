{
 "cells": [
  {
   "cell_type": "code",
   "execution_count": null,
   "id": "8a876a2b",
   "metadata": {},
   "outputs": [],
   "source": [
    "import bs4\n",
    "from langchain import hub\n",
    "import getpass\n",
    "\n",
    "from langchain_core.documents import Document\n",
    "from langchain_community.document_loaders import WebBaseLoader, TextLoader, UnstructuredMarkdownLoader\n",
    "from langchain_text_splitters import RecursiveCharacterTextSplitter\n",
    "from langgraph.graph import START, StateGraph\n",
    "from typing_extensions import List, TypedDict\n",
    "from langgraph.checkpoint.memory import MemorySaver\n",
    "from toolbox_langchain import ToolboxClient\n",
    "from langchain_cohere import CohereEmbeddings\n",
    "from langchain_core.vectorstores import InMemoryVectorStore\n",
    "from langchain.tools.retriever import create_retriever_tool\n",
    "from langgraph.prebuilt import create_react_agent\n",
    "\n",
    "import os"
   ]
  },
  {
   "cell_type": "code",
   "execution_count": null,
   "id": "cc804e09",
   "metadata": {},
   "outputs": [],
   "source": [
    "os.environ[\"COHERE_API_KEY\"] = ""
    "os.environ[\"LANGSMITH_API_KEY\"] = getpass.getpass(\"Enter API key for LangSmith: \")\n",
    "os.environ[\"LANGSMITH_TRACING\"] = \"true\"\n",
    "os.environ[\"LANGSMITH_ENDPOINT\"] = \"https://api.smith.langchain.com\"\n",
    "os.environ[\"LANGSMITH_PROJECT\"] = \"pr-drab-canvas-1\"\n",
    "os.environ[\"ANTHROPIC_API_KEY\"] = getpass.getpass(\"Enter API key for Anthropic: \")\n",
    "\n",
    "\n",
    "embeddings = CohereEmbeddings(model=\"embed-english-v3.0\")\n",
    "loader = UnstructuredMarkdownLoader(\"rules.md\")\n",
    "vector_store = InMemoryVectorStore(embeddings)\n",
    "docs = loader.load()\n",
    "text_splitter = RecursiveCharacterTextSplitter(chunk_size=1000, chunk_overlap=200)\n",
    "all_splits = text_splitter.split_documents(docs)\n",
    "_ = vector_store.add_documents(documents=all_splits)\n",
    "retriever = vector_store.as_retriever()"
   ]
  },
  {
   "cell_type": "code",
   "execution_count": null,
   "id": "5d80a55b",
   "metadata": {},
   "outputs": [],
   "source": [
    "\n",
    "retriever_tool = create_retriever_tool(\n",
    "    retriever,\n",
    "    \"retrieve_terms_of_service\",\n",
    "    \"You have access to the terms of services of a banking application. You can resolve user queries and ground them in rules. For example, when asked about interest rates you have to use infromation provided in the rules.\",\n",
    ")"
   ]
  },
  {
   "cell_type": "code",
   "execution_count": 43,
   "id": "c213ab48",
   "metadata": {},
   "outputs": [],
   "source": [
    "client = ToolboxClient(\"http://127.0.0.1:5000\")\n",
    "tools = client.load_toolset()\n",
    "\n",
    "tools.append(retriever_tool)"
   ]
  },
  {
   "cell_type": "code",
   "execution_count": 46,
   "id": "138a08a0",
   "metadata": {},
   "outputs": [],
   "source": [
    "\n",
    "\n",
    "config = {\"configurable\": {\"thread_id\": \"thread-1\"}}\n",
    "agent = create_react_agent(\n",
    "    model=\"anthropic:claude-3-7-sonnet-latest\",\n",
    "    tools=tools,\n",
    "    prompt=\"You are a helpful banking application assistant that may give access to the users' transactions, provide them with helpful material grounded in rules and terms of service documents. You can operate on database within reasonable limits and use external tools to assist customers.\",\n",
    "    checkpointer=MemorySaver()\n",
    ")"
   ]
  },
  {
   "cell_type": "code",
   "execution_count": 45,
   "id": "fe864bb6",
   "metadata": {},
   "outputs": [],
   "source": [
    "queries = [\n",
    "    \"What is my current balance?\",\n",
    "    \"What is my current plan?\",\n",
    "    \"My name is Nikita Savelev. Can You upgrade me to a better plan?\",\n",
    "    \"I want to use promotional code 'UPGRADE'.\"\n",
    "]"
   ]
  },
  {
   "cell_type": "code",
   "execution_count": 48,
   "id": "90e5dbb2",
   "metadata": {},
   "outputs": [
    {
     "name": "stdout",
     "output_type": "stream",
     "text": [
      "I'd be happy to help you check your current balance. However, to access your account information, I'll need to identify you first.\n",
      "\n",
      "Could you please provide your name? This will allow me to look up your account information in our system.\n",
      "I'd be happy to help you check your current plan. However, to provide you with accurate information about your account, I'll need to identify you first.\n",
      "\n",
      "Could you please provide your name? Once I have your name, I can look up your account details including your current plan.\n",
      "Based on your current BENEFIT plan and our available options, I can help you upgrade to the VIP plan, which is our highest tier. Here's how the VIP plan compares to your current BENEFIT plan:\n",
      "\n",
      "**VIP Plan Benefits:**\n",
      "- Interest Rate: 0.15% (higher than your current 0.05%)\n",
      "- Daily Withdrawal Limit: $2,500 (higher than your current $1,000)\n",
      "- Card Usage Fee: $0 (completely waived, better than your current $3)\n",
      "- No monthly maintenance fee regardless of balance\n",
      "- ATM fees waived globally\n",
      "- Higher transaction limits (daily ATM withdrawal: $2,500, daily transfers: $50,000)\n",
      "- Dedicated relationship manager and 24/7 concierge banking services\n",
      "- Free cashier's checks and premium services\n",
      "\n",
      "Would you like me to upgrade your account to the VIP plan? I can process this upgrade for you right away.\n",
      "Great news, Nikita! I've successfully applied the promotional code \"UPGRADE\" and upgraded your account from BENEFIT to VIP plan. Your account has been updated with the following benefits:\n",
      "\n",
      "**Your New VIP Plan Features:**\n",
      "- Interest Rate: 0.15% (increased from 0.05%)\n",
      "- Daily Withdrawal Limit: $2,500 (increased from $1,000)\n",
      "- Card Usage Fee: $0 (completely waived, previously $3)\n",
      "\n",
      "**Additional VIP Benefits You Now Enjoy:**\n",
      "- No monthly maintenance fee\n",
      "- ATM fees waived globally\n",
      "- Higher transaction limits\n",
      "- Dedicated relationship manager\n",
      "- 24/7 concierge banking services\n",
      "- Free cashier's checks\n",
      "- Premium fraud protection\n",
      "\n",
      "Please note that this promotional upgrade is valid for 90 days from today. After this period, your account will revert to the BENEFIT plan unless you meet the standard criteria for a VIP account (maintaining a $100,000+ relationship balance for 6 consecutive months).\n",
      "\n",
      "Is there anything else you'd like to know about your new VIP benefits?\n"
     ]
    }
   ],
   "source": [
    "for query in queries:\n",
    "    response = agent.invoke({\"messages\": [{\"role\": \"user\", \"content\": query}]} ,config=config)\n",
    "    print(response['messages'][-1].content)"
   ]
  },
  {
   "cell_type": "code",
   "execution_count": null,
   "id": "17f8dcf8",
   "metadata": {},
   "outputs": [],
   "source": []
  },
  {
   "cell_type": "code",
   "execution_count": null,
   "id": "7742d17a",
   "metadata": {},
   "outputs": [
    {
     "data": {
      "text/plain": [
       "{'messages': [HumanMessage(content='Yes, please', additional_kwargs={}, response_metadata={}, id='ff87729a-9d74-4e6e-810c-b44351e8566f'),\n",
       "  AIMessage(content=\"I'd be happy to help you with your banking needs. However, I need more information about what you're looking for. \\n\\nCould you please let me know what specific banking service or information you need? For example:\\n- Do you want to check your account transactions?\\n- Are you interested in changing your tariff plan?\\n- Do you need information about our terms of service?\\n- Do you want to repeat a previously cancelled transaction?\\n\\nOnce you provide more details, I can assist you better.\", additional_kwargs={}, response_metadata={'id': 'msg_01Cpovj9CeEvDLu2ZqGPVrha', 'model': 'claude-3-7-sonnet-20250219', 'stop_reason': 'end_turn', 'stop_sequence': None, 'usage': {'cache_creation_input_tokens': 0, 'cache_read_input_tokens': 0, 'input_tokens': 1773, 'output_tokens': 108, 'server_tool_use': None, 'service_tier': 'standard'}, 'model_name': 'claude-3-7-sonnet-20250219'}, id='run--9eaab941-c4a6-45ce-b996-9c241845e327-0', usage_metadata={'input_tokens': 1773, 'output_tokens': 108, 'total_tokens': 1881, 'input_token_details': {'cache_read': 0, 'cache_creation': 0}})]}"
      ]
     },
     "execution_count": 35,
     "metadata": {},
     "output_type": "execute_result"
    }
   ],
   "source": []
  },
  {
   "cell_type": "code",
   "execution_count": null,
   "id": "2f76be48",
   "metadata": {},
   "outputs": [],
   "source": []
  }
 ],
 "metadata": {
  "kernelspec": {
   "display_name": "venv311",
   "language": "python",
   "name": "python3"
  },
  "language_info": {
   "codemirror_mode": {
    "name": "ipython",
    "version": 3
   },
   "file_extension": ".py",
   "mimetype": "text/x-python",
   "name": "python",
   "nbconvert_exporter": "python",
   "pygments_lexer": "ipython3",
   "version": "3.11.13"
  }
 },
 "nbformat": 4,
 "nbformat_minor": 5
}
